{
 "cells": [
  {
   "cell_type": "code",
   "execution_count": 4,
   "metadata": {},
   "outputs": [],
   "source": [
    "import pandas as pd\n",
    "import numpy as np\n",
    "from keras.models import Sequential\n",
    "from keras.layers import Dense, Dropout\n",
    "from sklearn.preprocessing import StandardScaler\n",
    "from sklearn.model_selection import train_test_split\n",
    "from sklearn.preprocessing import LabelEncoder, OneHotEncoder\n",
    "from keras.wrappers.scikit_learn import KerasClassifier\n",
    "from sklearn.model_selection import cross_val_score\n",
    "from keras.optimizers import rmsprop,Adam\n",
    "\n",
    "data=pd.read_csv(\"../Churn_Modelling.csv\")\n",
    "X=data.iloc[:,3:13].values\n",
    "Y=data.iloc[:,13].values"
   ]
  },
  {
   "cell_type": "code",
   "execution_count": 2,
   "metadata": {},
   "outputs": [
    {
     "name": "stderr",
     "output_type": "stream",
     "text": [
      "/home/ayaz/anaconda3/envs/mycondaenv/lib/python3.6/site-packages/sklearn/preprocessing/_encoders.py:371: FutureWarning: The handling of integer data will change in version 0.22. Currently, the categories are determined based on the range [0, max(values)], while in the future they will be determined based on the unique values.\n",
      "If you want the future behaviour and silence this warning, you can specify \"categories='auto'\".\n",
      "In case you used a LabelEncoder before this OneHotEncoder to convert the categories to integers, then you can now use the OneHotEncoder directly.\n",
      "  warnings.warn(msg, FutureWarning)\n",
      "/home/ayaz/anaconda3/envs/mycondaenv/lib/python3.6/site-packages/sklearn/preprocessing/_encoders.py:392: DeprecationWarning: The 'categorical_features' keyword is deprecated in version 0.20 and will be removed in 0.22. You can use the ColumnTransformer instead.\n",
      "  \"use the ColumnTransformer instead.\", DeprecationWarning)\n"
     ]
    }
   ],
   "source": [
    "encoded_x1=LabelEncoder()\n",
    "X[:,1]=encoded_x1.fit_transform(X[:,1])\n",
    "encoded_x2=LabelEncoder()\n",
    "X[:,2]=encoded_x2.fit_transform(X[:,2])\n",
    "onehot=OneHotEncoder(categorical_features=[1])\n",
    "\n",
    "X=onehot.fit_transform(X).toarray()\n",
    "X=X[:,1:]\n",
    "X_train,X_test,Y_train,Y_test=train_test_split(X,Y,test_size=0.20,random_state=0)\n",
    "sc=StandardScaler()\n",
    "X_train=sc.fit_transform(X_train)\n",
    "X_test=sc.transform(X_test)"
   ]
  },
  {
   "cell_type": "code",
   "execution_count": 5,
   "metadata": {},
   "outputs": [],
   "source": [
    "def classify():\n",
    "    classifier=Sequential()\n",
    "    classifier.add(Dense(6,activation=\"relu\",input_shape=(11,)))\n",
    "    #classifier.add(Dropout(0.2))\n",
    "    classifier.add(Dense(6,activation=\"relu\"))\n",
    "    #classifier.add(Dense(32,activation='relu'))\n",
    "    #classifier.add(Dropout(0.2))\n",
    "    classifier.add(Dense(1,activation=\"sigmoid\"))\n",
    "    classifier.compile(Adam(lr=0.001),loss=\"binary_crossentropy\",metrics=[\"accuracy\"])\n",
    "    return classifier"
   ]
  },
  {
   "cell_type": "code",
   "execution_count": 6,
   "metadata": {},
   "outputs": [],
   "source": [
    "classifier = KerasClassifier(build_fn=classify,batch_size=10,epochs=10)\n",
    "accs=cross_val_score(estimator=classifier,X=X_train, y= Y_train,cv=10,n_jobs=-1)\n",
    "mean=accs.mean()\n",
    "variance=accs.std()\n",
    "from keras.wrappers.scikit_learn import KerasClassifier\n",
    "from sklearn.model_selection import cross_val_score"
   ]
  },
  {
   "cell_type": "code",
   "execution_count": null,
   "metadata": {},
   "outputs": [],
   "source": [
    "def classify_2():\n",
    "    classifier=Sequential()\n",
    "    classifier.add(Dense(6,activation=\"relu\",input_shape=(11,)))\n",
    "    classifier.add(Dropout(0.1))\n",
    "    classifier.add(Dense(6,activation=\"relu\"))\n",
    "    #classifier.add(Dense(32,activation='relu'))\n",
    "    #classifier.add(Dropout(0.2))\n",
    "    classifier.add(Dense(1,activation=\"sigmoid\"))\n",
    "    classifier.compile(Adam(lr=0.001),loss=\"binary_crossentropy\",metrics=[\"accuracy\"])\n",
    "    return classifier\n"
   ]
  },
  {
   "cell_type": "code",
   "execution_count": null,
   "metadata": {},
   "outputs": [],
   "source": [
    "classifier_2 = KerasClassifier(build_fn=classify_2,batch_size=10,epochs=10)\n",
    "accs_2=cross_val_score(estimator=classifier,X=X_train, y= Y_train,cv=10,n_jobs=-1)\n",
    "classifier_2.fit(X_train,Y_train)\n",
    "mean_2=accs_2.mean()\n",
    "variance_2=accs_2.std()\n",
    "a=classifier_2.predict(X_test)\n"
   ]
  },
  {
   "cell_type": "code",
   "execution_count": null,
   "metadata": {},
   "outputs": [],
   "source": [
    "def classify_3():\n",
    "    classifier=Sequential()\n",
    "    classifier.add(Dense(6,activation=\"relu\",input_shape=(11,)))\n",
    "    classifier.add(Dropout(0.2))\n",
    "    classifier.add(Dense(6,activation=\"relu\"))\n",
    "    #classifier.add(Dense(32,activation='relu'))\n",
    "    #classifier.add(Dropout(0.2))\n",
    "    classifier.add(Dense(1,activation=\"sigmoid\"))\n",
    "    classifier.compile(Adam(lr=0.001),loss=\"binary_crossentropy\",metrics=[\"accuracy\"])\n",
    "    return classifier"
   ]
  },
  {
   "cell_type": "code",
   "execution_count": null,
   "metadata": {},
   "outputs": [],
   "source": [
    "classifier_3 = KerasClassifier(build_fn=classify_3,batch_size=10,epochs=30)\n",
    "accs_3=cross_val_score(estimator=classifier,X=X_train, y= Y_train,cv=10,n_jobs=-1)\n",
    "\n",
    "mean_3=accs_3.mean()\n",
    "variance_3=accs_3.std()\n"
   ]
  },
  {
   "cell_type": "code",
   "execution_count": null,
   "metadata": {},
   "outputs": [],
   "source": [
    "def classify_4():\n",
    "    classifier=Sequential()\n",
    "    classifier.add(Dense(6,activation=\"relu\",input_shape=(11,)))\n",
    "    #classifier.add(Dropout(0.2))\n",
    "    classifier.add(Dense(6,activation=\"relu\"))\n",
    "    #classifier.add(Dense(32,activation='relu'))\n",
    "    classifier.add(Dropout(0.2))\n",
    "    classifier.add(Dense(1,activation=\"sigmoid\"))\n",
    "    classifier.compile(Adam(lr=0.001),loss=\"binary_crossentropy\",metrics=[\"accuracy\"])\n",
    "    return classifier\n"
   ]
  },
  {
   "cell_type": "code",
   "execution_count": null,
   "metadata": {},
   "outputs": [],
   "source": [
    "classifier_4 = KerasClassifier(build_fn=classify_4,batch_size=10,epochs=30)\n",
    "accs_4=cross_val_score(estimator=classifier,X=X_train, y= Y_train,cv=10,n_jobs=-1)\n",
    "\n",
    "mean_4=accs_4.mean()\n",
    "variance_4=accs_4.std()\n"
   ]
  },
  {
   "cell_type": "code",
   "execution_count": null,
   "metadata": {},
   "outputs": [],
   "source": [
    "def classify_5():\n",
    "    classifier=Sequential()\n",
    "    classifier.add(Dense(6,activation=\"relu\",input_shape=(11,)))\n",
    "    #classifier.add(Dropout(0.2))\n",
    "    classifier.add(Dense(6,activation=\"relu\"))\n",
    "    #classifier.add(Dense(32,activation='relu'))\n",
    "    classifier.add(Dropout(0.2))\n",
    "    classifier.add(Dense(1,activation=\"sigmoid\"))\n",
    "    classifier.compile(Adam(lr=0.001),loss=\"binary_crossentropy\",metrics=[\"accuracy\"])\n",
    "    return classifier"
   ]
  },
  {
   "cell_type": "code",
   "execution_count": null,
   "metadata": {},
   "outputs": [],
   "source": [
    "classifier_5 = KerasClassifier(build_fn=classify_5,batch_size=10,epochs=50)\n",
    "accs_5=cross_val_score(estimator=classifier,X=X_train, y= Y_train,cv=10,n_jobs=-1)\n",
    "\n",
    "mean_5=accs_5.mean()\n",
    "variance_5=accs_5.std()"
   ]
  },
  {
   "cell_type": "markdown",
   "metadata": {},
   "source": [
    "with grid search"
   ]
  },
  {
   "cell_type": "code",
   "execution_count": null,
   "metadata": {},
   "outputs": [],
   "source": [
    "def classify_6(optimizer):\n",
    "    classifier=Sequential()\n",
    "    classifier.add(Dense(6,activation=\"relu\",input_shape=(11,)))\n",
    "    classifier.add(Dropout(0.2))\n",
    "    classifier.add(Dense(6,activation=\"relu\"))\n",
    "    #classifier.add(Dense(32,activation='relu'))\n",
    "    #classifier.add(Dropout(0.2))\n",
    "    classifier.add(Dense(1,activation=\"sigmoid\"))\n",
    "    classifier.compile(optimizer=optimizer,loss=\"binary_crossentropy\",metrics=[\"accuracy\"])\n",
    "    return classifier"
   ]
  },
  {
   "cell_type": "code",
   "execution_count": null,
   "metadata": {},
   "outputs": [],
   "source": [
    "params={'batch_size':[10,15],\n",
    "        'nb_epoch':[30,50,70],\n",
    "        'optimizer':['adam','rmsprop']}\n",
    "classifier_6 = KerasClassifier(build_fn=classify_6)\n",
    "gridsearch=GridSearchCV(estimator=classifier_6,param_grid=params,scoring='accuracy',cv=10)\n",
    "gridsearch.fit(X_train,Y_train)\n",
    "best_params=gridsearch.best_params_\n",
    "best_score=gridsearch.best_score_\n",
    "y_pred= gridsearch.predict(X_test)\n",
    "y_pred=(y_pred > 0.5)\n",
    "from sklearn.metrics import confusion_matrix\n",
    "cm=confusion_matrix(Y_test,y_pred)\n"
   ]
  }
 ],
 "metadata": {
  "kernelspec": {
   "display_name": "Python 3",
   "language": "python",
   "name": "python3"
  },
  "language_info": {
   "codemirror_mode": {
    "name": "ipython",
    "version": 3
   },
   "file_extension": ".py",
   "mimetype": "text/x-python",
   "name": "python",
   "nbconvert_exporter": "python",
   "pygments_lexer": "ipython3",
   "version": "3.6.8"
  }
 },
 "nbformat": 4,
 "nbformat_minor": 2
}
